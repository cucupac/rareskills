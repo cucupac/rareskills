{
 "cells": [
  {
   "cell_type": "code",
   "execution_count": 1,
   "metadata": {},
   "outputs": [],
   "source": [
    "from py_ecc.bn128 import add, multiply, neg, curve_order, G1, Z1"
   ]
  },
  {
   "cell_type": "markdown",
   "metadata": {},
   "source": [
    "\n",
    "# Public Inputs\n",
    "$$ x_1 = 2 $$\n",
    "$$ x_2 = 4 $$\n",
    "$$ x_3 = 6 $$\n",
    "\n",
    "# Hidden Inputs\n",
    "\n",
    "$$ a_1 = 8 $$\n",
    "$$ b_2 = 8 $$\n",
    "$$ c_1 = 4 $$"
   ]
  },
  {
   "cell_type": "code",
   "execution_count": 2,
   "metadata": {},
   "outputs": [
    {
     "name": "stdout",
     "output_type": "stream",
     "text": [
      "A1:\n",
      " (3932705576657793550893430333273221375907985235130430286685735064194643946083, 18813763293032256545937756946359266117037834559191913266454084342712532869153) \n",
      "\n",
      "B2:\n",
      " (3932705576657793550893430333273221375907985235130430286685735064194643946083, 18813763293032256545937756946359266117037834559191913266454084342712532869153) \n",
      "\n",
      "C1:\n",
      " (3010198690406615200373504922352659861758983907867017329644089018310584441462, 4027184618003122424972590350825261965929648733675738730716654005365300998076) \n",
      "\n"
     ]
    }
   ],
   "source": [
    "# Public inputs\n",
    "x_1 = 2\n",
    "x_2 = 4\n",
    "x_3 = 6\n",
    "\n",
    "# Hidden inputs\n",
    "a_1 = 8\n",
    "b_2 = 8\n",
    "c_1 = 4\n",
    "\n",
    "# Consturct A, B, and C\n",
    "A1 = multiply(G1, a_1)\n",
    "B2 = multiply(G1, b_2)\n",
    "C1 = multiply(G1, c_1)\n",
    "\n",
    "print(\"A1:\\n\", A1, \"\\n\")\n",
    "print(\"B2:\\n\", B2, \"\\n\")\n",
    "print(\"C1:\\n\", C1, \"\\n\")"
   ]
  }
 ],
 "metadata": {
  "kernelspec": {
   "display_name": "env",
   "language": "python",
   "name": "python3"
  },
  "language_info": {
   "codemirror_mode": {
    "name": "ipython",
    "version": 3
   },
   "file_extension": ".py",
   "mimetype": "text/x-python",
   "name": "python",
   "nbconvert_exporter": "python",
   "pygments_lexer": "ipython3",
   "version": "3.9.5"
  }
 },
 "nbformat": 4,
 "nbformat_minor": 2
}
