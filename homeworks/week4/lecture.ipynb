{
 "cells": [
  {
   "cell_type": "code",
   "execution_count": 2,
   "metadata": {},
   "outputs": [],
   "source": [
    "from py_ecc.bn128 import G1, G2, add, multiply, pairing, eq, neg, final_exponentiate"
   ]
  },
  {
   "cell_type": "markdown",
   "metadata": {},
   "source": [
    "# G1 is an element with one dimension:\n",
    "\n",
    "$$ (x1, y1) $$"
   ]
  },
  {
   "cell_type": "code",
   "execution_count": 2,
   "metadata": {},
   "outputs": [
    {
     "data": {
      "text/plain": [
       "(1, 2)"
      ]
     },
     "execution_count": 2,
     "metadata": {},
     "output_type": "execute_result"
    }
   ],
   "source": [
    "G1"
   ]
  },
  {
   "cell_type": "markdown",
   "metadata": {},
   "source": [
    "# G2 is an element with 2 dimensions:\n",
    "\n",
    "$$ ((x1, y1), (x2, y2)) $$"
   ]
  },
  {
   "cell_type": "code",
   "execution_count": 6,
   "metadata": {},
   "outputs": [
    {
     "data": {
      "text/plain": [
       "((10857046999023057135944570762232829481370756359578518086990519993285655852781, 11559732032986387107991004021392285783925812861821192530917403151452391805634),\n",
       " (8495653923123431417604973247489272438418190587263600148770280649306958101930, 4082367875863433681332203403145435568316851327593401208105741076214120093531))"
      ]
     },
     "execution_count": 6,
     "metadata": {},
     "output_type": "execute_result"
    }
   ],
   "source": [
    "G2"
   ]
  },
  {
   "cell_type": "markdown",
   "metadata": {},
   "source": [
    "# Addition can be applied to G2"
   ]
  },
  {
   "cell_type": "code",
   "execution_count": 7,
   "metadata": {},
   "outputs": [
    {
     "data": {
      "text/plain": [
       "((18029695676650738226693292988307914797657423701064905010927197838374790804409, 14583779054894525174450323658765874724019480979794335525732096752006891875705),\n",
       " (2140229616977736810657479771656733941598412651537078903776637920509952744750, 11474861747383700316476719153975578001603231366361248090558603872215261634898))"
      ]
     },
     "execution_count": 7,
     "metadata": {},
     "output_type": "execute_result"
    }
   ],
   "source": [
    "add(G2, G2)"
   ]
  },
  {
   "cell_type": "markdown",
   "metadata": {},
   "source": [
    "# Multiplication Also"
   ]
  },
  {
   "cell_type": "code",
   "execution_count": 8,
   "metadata": {},
   "outputs": [
    {
     "data": {
      "text/plain": [
       "((2725019753478801796453339367788033689375851816420509565303521482350756874229, 7273165102799931111715871471550377909735733521218303035754523677688038059653),\n",
       " (2512659008974376214222774206987427162027254181373325676825515531566330959255, 957874124722006818841961785324909313781880061366718538693995380805373202866))"
      ]
     },
     "execution_count": 8,
     "metadata": {},
     "output_type": "execute_result"
    }
   ],
   "source": [
    "multiply(G2, 3)"
   ]
  },
  {
   "cell_type": "markdown",
   "metadata": {},
   "source": [
    "# Equality Check"
   ]
  },
  {
   "cell_type": "code",
   "execution_count": 10,
   "metadata": {},
   "outputs": [
    {
     "data": {
      "text/plain": [
       "True"
      ]
     },
     "execution_count": 10,
     "metadata": {},
     "output_type": "execute_result"
    }
   ],
   "source": [
    "eq(multiply(G2, 2), add(G2,G2))"
   ]
  },
  {
   "cell_type": "markdown",
   "metadata": {},
   "source": [
    "# Pairing (analogous to product) gives you G12 point"
   ]
  },
  {
   "cell_type": "code",
   "execution_count": 11,
   "metadata": {},
   "outputs": [
    {
     "data": {
      "text/plain": [
       "(19614356920443419140557609011808491131051287121914772180160897504399913119031, 16402286316680844653167087418907073071739264075397708802403687178136605847495, 9516512164723457125373687930108782697450112733009291039665308696173074636827, 4392767695384089241876546412040753039897072388490055302110884836541053653959, 21299821843725421488599411076637868370132093024618366717145427786734566682379, 9186005765258034323180513100298760726037893586721945504892355772539248081604, 7378659680544739576594932092257086076182495567753158934978943342610972425198, 16723496448660640626598721740450139224569870087332502520443863962289868369533, 19696907725376645703346466288981453266836028988064908921486741978752060724592, 19707592768627418142389789700197301670022840662221457954105347531258133156109, 1930541213715064303880042725783630508090276248497166698226390663883257839538, 5776732306076888117254057753347922873056384121205358648967533553456834568815)"
      ]
     },
     "execution_count": 11,
     "metadata": {},
     "output_type": "execute_result"
    }
   ],
   "source": [
    "pairing(multiply(G2,3), multiply(G1,5))"
   ]
  },
  {
   "cell_type": "code",
   "execution_count": 13,
   "metadata": {},
   "outputs": [
    {
     "data": {
      "text/plain": [
       "True"
      ]
     },
     "execution_count": 13,
     "metadata": {},
     "output_type": "execute_result"
    }
   ],
   "source": [
    "eq(pairing(multiply(G2,3), multiply(G1,5)), pairing(multiply(G2,5), multiply(G1,3)))"
   ]
  },
  {
   "cell_type": "markdown",
   "metadata": {},
   "source": [
    "# How could we tell if two points are equal?"
   ]
  },
  {
   "cell_type": "code",
   "execution_count": 15,
   "metadata": {},
   "outputs": [],
   "source": [
    "Q = multiply(G1, 2)\n",
    "R = multiply(G1, 2)\n",
    "\n",
    "# METHOD 1\n",
    "assert eq(Q, R) == True\n",
    "\n",
    "# METHOD 2\n",
    "assert add(Q, neg(R)) is None"
   ]
  },
  {
   "cell_type": "markdown",
   "metadata": {},
   "source": [
    "# How to tell if two G12 points are invereses?\n",
    "\n",
    "Notice how the resulting point is \"special\". It is the identity element."
   ]
  },
  {
   "cell_type": "code",
   "execution_count": 18,
   "metadata": {},
   "outputs": [
    {
     "data": {
      "text/plain": [
       "(1, 0, 0, 0, 0, 0, 0, 0, 0, 0, 0, 0)"
      ]
     },
     "execution_count": 18,
     "metadata": {},
     "output_type": "execute_result"
    }
   ],
   "source": [
    "Q = pairing(multiply(G2,3), multiply(G1,5))\n",
    "R = pairing(multiply(G2,3), neg(multiply(G1,5)))\n",
    "\n",
    "final_exponentiate(Q * R)"
   ]
  },
  {
   "cell_type": "code",
   "execution_count": 3,
   "metadata": {},
   "outputs": [
    {
     "ename": "TypeError",
     "evalue": "cannot unpack non-iterable bn128_FQ12 object",
     "output_type": "error",
     "traceback": [
      "\u001b[0;31m---------------------------------------------------------------------------\u001b[0m",
      "\u001b[0;31mTypeError\u001b[0m                                 Traceback (most recent call last)",
      "Cell \u001b[0;32mIn[3], line 4\u001b[0m\n\u001b[1;32m      1\u001b[0m Q \u001b[38;5;241m=\u001b[39m pairing(multiply(G2,\u001b[38;5;241m3\u001b[39m), multiply(G1,\u001b[38;5;241m5\u001b[39m))\n\u001b[1;32m      2\u001b[0m R \u001b[38;5;241m=\u001b[39m pairing(multiply(G2,\u001b[38;5;241m3\u001b[39m), neg(multiply(G1,\u001b[38;5;241m6\u001b[39m)))\n\u001b[0;32m----> 4\u001b[0m \u001b[43madd\u001b[49m\u001b[43m(\u001b[49m\u001b[43mQ\u001b[49m\u001b[43m,\u001b[49m\u001b[43m \u001b[49m\u001b[43mR\u001b[49m\u001b[43m)\u001b[49m\n",
      "File \u001b[0;32m~/web3/zk/rareskills/env/lib/python3.9/site-packages/py_ecc/bn128/bn128_curve.py:92\u001b[0m, in \u001b[0;36madd\u001b[0;34m(p1, p2)\u001b[0m\n\u001b[1;32m     90\u001b[0m \u001b[38;5;28;01mif\u001b[39;00m p1 \u001b[38;5;129;01mis\u001b[39;00m \u001b[38;5;28;01mNone\u001b[39;00m \u001b[38;5;129;01mor\u001b[39;00m p2 \u001b[38;5;129;01mis\u001b[39;00m \u001b[38;5;28;01mNone\u001b[39;00m:\n\u001b[1;32m     91\u001b[0m     \u001b[38;5;28;01mreturn\u001b[39;00m p1 \u001b[38;5;28;01mif\u001b[39;00m p2 \u001b[38;5;129;01mis\u001b[39;00m \u001b[38;5;28;01mNone\u001b[39;00m \u001b[38;5;28;01melse\u001b[39;00m p2\n\u001b[0;32m---> 92\u001b[0m x1, y1 \u001b[38;5;241m=\u001b[39m p1\n\u001b[1;32m     93\u001b[0m x2, y2 \u001b[38;5;241m=\u001b[39m p2\n\u001b[1;32m     94\u001b[0m \u001b[38;5;28;01mif\u001b[39;00m x2 \u001b[38;5;241m==\u001b[39m x1 \u001b[38;5;129;01mand\u001b[39;00m y2 \u001b[38;5;241m==\u001b[39m y1:\n",
      "\u001b[0;31mTypeError\u001b[0m: cannot unpack non-iterable bn128_FQ12 object"
     ]
    }
   ],
   "source": [
    "Q = pairing(multiply(G2,3), multiply(G1,5))\n",
    "R = pairing(multiply(G2,3), multiply(G1,6))\n",
    "\n",
    "G12 = final_exponentiate(Q * R)\n",
    "\n",
    "final_exponentiate(G12 * final_exponentiate(Q * R))"
   ]
  }
 ],
 "metadata": {
  "kernelspec": {
   "display_name": "env",
   "language": "python",
   "name": "python3"
  },
  "language_info": {
   "codemirror_mode": {
    "name": "ipython",
    "version": 3
   },
   "file_extension": ".py",
   "mimetype": "text/x-python",
   "name": "python",
   "nbconvert_exporter": "python",
   "pygments_lexer": "ipython3",
   "version": "3.9.5"
  }
 },
 "nbformat": 4,
 "nbformat_minor": 2
}
