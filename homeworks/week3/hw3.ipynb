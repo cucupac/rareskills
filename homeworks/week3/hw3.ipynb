{
 "cells": [
  {
   "cell_type": "code",
   "execution_count": 1,
   "metadata": {},
   "outputs": [],
   "source": [
    "from py_ecc.bn128 import add, multiply, neg, curve_order, G1, Z1"
   ]
  },
  {
   "cell_type": "markdown",
   "metadata": {},
   "source": [
    "# HW3 Exercise 1"
   ]
  },
  {
   "cell_type": "markdown",
   "metadata": {},
   "source": [
    "Rationale:\n",
    "\n",
    "I can't deivide the numerator by the denominator due to the integer division:\n",
    "\n",
    "$$ A + B = G1 * (num/den) $$\n",
    "\n",
    "I can, however, rearrange the equation:\n",
    "\n",
    "$$ (A + B) = G1 * num * den^{-1} \\pmod {curve\\_order} $$ \n",
    "\n",
    "### Example Problem:\n",
    "\n",
    "$$ 5/2 + 3/2 = 8/2 = 4 $$"
   ]
  },
  {
   "cell_type": "code",
   "execution_count": null,
   "metadata": {},
   "outputs": [],
   "source": [
    "CURVE_ORDER = 21888242871839275222246405745257275088548364400416034343698204186575808495617\n",
    "\n",
    "\"\"\"PROVER:\"\"\" \n",
    "num = 4\n",
    "den = 1\n",
    "\n",
    "# 1. Re-represent problem into: 5 * inv(2) + 3 * inv(2) = 4\n",
    "r_den_a = 2 # rational denominator\n",
    "r_den_b = 2 # rational denominator\n",
    "\n",
    "# 2. Find rational denominator's modular inverse\n",
    "r_den_a_inverse = pow(r_den_a, CURVE_ORDER - 2, CURVE_ORDER)\n",
    "r_den_b_inverse = pow(r_den_b, CURVE_ORDER - 2, CURVE_ORDER)\n",
    "\n",
    "# 3. Construct A and B using inverses and scalars\n",
    "inv_a_point = multiply(G1, r_den_a_inverse)\n",
    "inv_b_point = multiply(G1, r_den_b_inverse)\n",
    "A = multiply(inv_a_point, 5)\n",
    "B = multiply(inv_b_point, 3)\n",
    "print(\"A:\", A)\n",
    "print(\"B:\", B)\n",
    "\n",
    "# 4. Construct proof\n",
    "proof = (A, B, num, den)\n",
    "\n",
    "\"\"\"VERIFIER:\"\"\"\n",
    "A = proof[0]\n",
    "B = proof[1]\n",
    "num = proof[2]\n",
    "den = proof[3]\n",
    "\n",
    "# 5. Construct C: num/den can be represented as num * inv(den)\n",
    "inv_den = pow(den, CURVE_ORDER - 2, CURVE_ORDER)\n",
    "inv_den_point = multiply(G1, inv_den)\n",
    "C = multiply(inv_den_point, num)\n",
    "\n",
    "# 6. Verify that A + B == C\n",
    "assert add(A, B) == C"
   ]
  },
  {
   "cell_type": "markdown",
   "metadata": {},
   "source": [
    "# HW3 Exercise 2 "
   ]
  },
  {
   "cell_type": "code",
   "execution_count": null,
   "metadata": {},
   "outputs": [],
   "source": [
    "# construct m\n",
    "n = 4\n",
    "m = []\n",
    "for i in range(n * n):\n",
    "    m.append(i+1)\n",
    "\n",
    "print(\"m:\", m, \"\\n\\n\")\n",
    "\n",
    "\n",
    "# construct test points for s\n",
    "s = []\n",
    "i = 2\n",
    "for _ in range(n):\n",
    "    s.append(multiply(G1, i))\n",
    "    i *= 2\n",
    "\n",
    "# print for copy to remix\n",
    "s_list = []\n",
    "for point in s:\n",
    "    s_list.append(list(point))\n",
    "\n",
    "print(\"s_list:\", s_list)\n",
    "\n",
    "\n",
    "# construct test o\n",
    "o = []\n",
    "for row in range(n):\n",
    "    POINT = Z1\n",
    "    for col in range(n):\n",
    "        elem = m[row * n + col]\n",
    "        POINT = add(POINT, multiply(s[col], elem)) \n",
    "    o.append(POINT)\n",
    "\n",
    "# print for copy to remix\n",
    "o_list = []\n",
    "for point in o:\n",
    "    o_list.append(list(point))\n",
    "\n",
    "print(\"o_list:\", o_list)"
   ]
  }
 ],
 "metadata": {
  "kernelspec": {
   "display_name": "env",
   "language": "python",
   "name": "python3"
  },
  "language_info": {
   "codemirror_mode": {
    "name": "ipython",
    "version": 3
   },
   "file_extension": ".py",
   "mimetype": "text/x-python",
   "name": "python",
   "nbconvert_exporter": "python",
   "pygments_lexer": "ipython3",
   "version": "3.9.5"
  }
 },
 "nbformat": 4,
 "nbformat_minor": 2
}
