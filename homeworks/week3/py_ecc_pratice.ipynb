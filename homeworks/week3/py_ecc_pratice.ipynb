{
 "cells": [
  {
   "cell_type": "code",
   "execution_count": 2,
   "metadata": {},
   "outputs": [],
   "source": [
    "from py_ecc.bn128 import add, multiply, neg, curve_order, G1, Z1"
   ]
  },
  {
   "cell_type": "markdown",
   "metadata": {},
   "source": [
    "# BASIC OPERATIONS"
   ]
  },
  {
   "cell_type": "code",
   "execution_count": 4,
   "metadata": {},
   "outputs": [
    {
     "name": "stdout",
     "output_type": "stream",
     "text": [
      "GENERATOR POINT: (1, 2) \n",
      "\n",
      "\n",
      "POINT SUM: (1368015179489954701390400359078579693043519447331113978918064868415326638035, 9918110051302171585080402603319702774565515993150576347155970296011118125764) \n",
      "\n",
      "\n",
      "POINT MULTIPLICATION: (1368015179489954701390400359078579693043519447331113978918064868415326638035, 9918110051302171585080402603319702774565515993150576347155970296011118125764) \n",
      "\n",
      "\n"
     ]
    }
   ],
   "source": [
    "# Generator point\n",
    "print(\"GENERATOR POINT:\", G1, \"\\n\\n\")\n",
    "\n",
    "# Add points\n",
    "print(\"POINT SUM:\", add(G1, G1), \"\\n\\n\")\n",
    "\n",
    "# Multiply point\n",
    "print(\"POINT MULTIPLICATION:\", multiply(G1, 2), \"\\n\\n\")"
   ]
  },
  {
   "cell_type": "markdown",
   "metadata": {},
   "source": [
    "# POINT AT INFINITY AND WRAP AROUND"
   ]
  },
  {
   "cell_type": "code",
   "execution_count": 25,
   "metadata": {},
   "outputs": [
    {
     "name": "stdout",
     "output_type": "stream",
     "text": [
      "(1368015179489954701390400359078579693043519447331113978918064868415326638035, 11970132820537103637166003141937572314130795164147247315533067598634108082819)\n"
     ]
    }
   ],
   "source": [
    "# Adding a point and its inverse gets you the point at infinity\n",
    "assert add(G1, neg(G1)) is None\n",
    "\n",
    "# If you add G1 to itself curve_order times, you get G1\n",
    "assert add(G1, multiply(G1, curve_order)) == G1"
   ]
  },
  {
   "cell_type": "markdown",
   "metadata": {},
   "source": [
    "# Exercise 1\n",
    "### Get inverse without using neg function"
   ]
  },
  {
   "cell_type": "code",
   "execution_count": 6,
   "metadata": {},
   "outputs": [],
   "source": [
    "field_element = 5\n",
    "GN = multiply(G1, field_element)\n",
    "\n",
    "# METHOD 1:\n",
    "y_val = -GN[1]\n",
    "GN_inv = (GN[0], y_val)\n",
    "assert neg(GN) == GN_inv\n",
    "\n",
    "# METHOD 2:\n",
    "inverse_field_element = curve_order - field_element\n",
    "GN_inv = multiply(G1, inverse_field_element)\n",
    "assert neg(GN) == GN_inv"
   ]
  },
  {
   "cell_type": "markdown",
   "metadata": {},
   "source": [
    "# Exercise 2\n",
    "### ZK Addition: I know two numbers that sum to 16."
   ]
  },
  {
   "cell_type": "code",
   "execution_count": null,
   "metadata": {},
   "outputs": [],
   "source": [
    "\"\"\"PROVER:\"\"\" \n",
    "A = multiply(G1, 5)\n",
    "B = multiply(G1, 11)\n",
    "proof = (A, B, 16)\n",
    "\n",
    "\"\"\"VERIFIER:\"\"\"\n",
    "v_point = multiply(G1, 16)\n",
    "assert add(A, B) == v_point"
   ]
  },
  {
   "cell_type": "markdown",
   "metadata": {},
   "source": [
    "# Exercise 3\n",
    "### ZK Multiplication by Constant: \"I know that 5 times a hidden number, H, is 55.\""
   ]
  },
  {
   "cell_type": "code",
   "execution_count": null,
   "metadata": {},
   "outputs": [],
   "source": [
    "\n",
    "# Prover will:\n",
    "hidden_number = 11\n",
    "H = multiply(G1, hidden_number)\n",
    "proof = (5, H, 55)\n",
    "\n",
    "\"\"\"VERIFIER:\"\"\"\n",
    "P = multiply(G1, 55)\n",
    "assert multiply(H, 5) == P"
   ]
  },
  {
   "cell_type": "markdown",
   "metadata": {},
   "source": [
    "# Exercise 4\n",
    "### ZK Equation: \"I know x and y such that 5x + 2y = 16\""
   ]
  },
  {
   "cell_type": "code",
   "execution_count": null,
   "metadata": {},
   "outputs": [],
   "source": [
    "\"\"\"PROVER:\"\"\" \n",
    "x = 2\n",
    "y = 3\n",
    "\n",
    "X = multiply(G1, x)\n",
    "Y = multiply(G1, y)\n",
    "proof = (5, X, 2, Y, 16)\n",
    "\n",
    "\"\"\"VERIFIER:\"\"\"\n",
    "\n",
    "construct = add(multiply(X, 5), multiply(Y, 2))\n",
    "assert construct == multiply(G1, 16)"
   ]
  },
  {
   "cell_type": "markdown",
   "metadata": {},
   "source": [
    "# Exercise 5\n",
    "### ZK Rational Number Math: how to do the following on Elliptic Curves?\n",
    "\n",
    "$$  5/2 + 1/2 = 3 $$\n",
    "\n",
    "$$ 5 * (1/2) + (1) * (1/2) = 3 $$"
   ]
  },
  {
   "cell_type": "code",
   "execution_count": 5,
   "metadata": {},
   "outputs": [],
   "source": [
    "inv_field_elem = pow(2, -1, curve_order)\n",
    "\n",
    "inv2_point = multiply(G1, inv_field_elem)\n",
    "\n",
    "checkpoint = multiply(G1, 3)\n",
    "\n",
    "assert add(multiply(inv2_point, 5), inv2_point) == checkpoint\n"
   ]
  }
 ],
 "metadata": {
  "kernelspec": {
   "display_name": "env",
   "language": "python",
   "name": "python3"
  },
  "language_info": {
   "codemirror_mode": {
    "name": "ipython",
    "version": 3
   },
   "file_extension": ".py",
   "mimetype": "text/x-python",
   "name": "python",
   "nbconvert_exporter": "python",
   "pygments_lexer": "ipython3",
   "version": "3.9.5"
  }
 },
 "nbformat": 4,
 "nbformat_minor": 2
}
