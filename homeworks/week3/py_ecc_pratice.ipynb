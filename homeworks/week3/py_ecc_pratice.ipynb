{
 "cells": [
  {
   "cell_type": "code",
   "execution_count": 2,
   "metadata": {},
   "outputs": [],
   "source": [
    "from py_ecc.bn128 import add, multiply, neg, curve_order, G1, Z1"
   ]
  },
  {
   "cell_type": "markdown",
   "metadata": {},
   "source": [
    "# BASIC OPERATIONS"
   ]
  },
  {
   "cell_type": "code",
   "execution_count": 4,
   "metadata": {},
   "outputs": [
    {
     "name": "stdout",
     "output_type": "stream",
     "text": [
      "GENERATOR POINT: (1, 2) \n",
      "\n",
      "\n",
      "POINT SUM: (1368015179489954701390400359078579693043519447331113978918064868415326638035, 9918110051302171585080402603319702774565515993150576347155970296011118125764) \n",
      "\n",
      "\n",
      "POINT MULTIPLICATION: (1368015179489954701390400359078579693043519447331113978918064868415326638035, 9918110051302171585080402603319702774565515993150576347155970296011118125764) \n",
      "\n",
      "\n"
     ]
    }
   ],
   "source": [
    "# Generator point\n",
    "print(\"GENERATOR POINT:\", G1, \"\\n\\n\")\n",
    "\n",
    "# Add points\n",
    "print(\"POINT SUM:\", add(G1, G1), \"\\n\\n\")\n",
    "\n",
    "# Multiply point\n",
    "print(\"POINT MULTIPLICATION:\", multiply(G1, 2), \"\\n\\n\")"
   ]
  },
  {
   "cell_type": "markdown",
   "metadata": {},
   "source": [
    "# POINT AT INFINITY AND WRAP AROUND"
   ]
  },
  {
   "cell_type": "code",
   "execution_count": 25,
   "metadata": {},
   "outputs": [
    {
     "name": "stdout",
     "output_type": "stream",
     "text": [
      "(1368015179489954701390400359078579693043519447331113978918064868415326638035, 11970132820537103637166003141937572314130795164147247315533067598634108082819)\n"
     ]
    }
   ],
   "source": [
    "# Adding a point and its inverse gets you the point at infinity\n",
    "assert add(G1, neg(G1)) is None\n",
    "\n",
    "# If you add G1 to itself curve_order times, you get G1\n",
    "assert add(G1, multiply(G1, curve_order)) == G1"
   ]
  },
  {
   "cell_type": "markdown",
   "metadata": {},
   "source": [
    "# Exercise 1\n",
    "### Get inverse without using neg function"
   ]
  },
  {
   "cell_type": "code",
   "execution_count": 6,
   "metadata": {},
   "outputs": [],
   "source": [
    "field_element = 5\n",
    "GN = multiply(G1, field_element)\n",
    "\n",
    "# METHOD 1:\n",
    "y_val = -GN[1]\n",
    "GN_inv = (GN[0], y_val)\n",
    "assert neg(GN) == GN_inv\n",
    "\n",
    "# METHOD 2:\n",
    "inverse_field_element = curve_order - field_element\n",
    "GN_inv = multiply(G1, inverse_field_element)\n",
    "assert neg(GN) == GN_inv"
   ]
  },
  {
   "cell_type": "markdown",
   "metadata": {},
   "source": [
    "# Exercise 2\n",
    "### ZK Addition: I know two numbers that sum to 16."
   ]
  },
  {
   "cell_type": "code",
   "execution_count": null,
   "metadata": {},
   "outputs": [],
   "source": [
    "\"\"\"PROVER:\"\"\" \n",
    "A = multiply(G1, 5)\n",
    "B = multiply(G1, 11)\n",
    "proof = (A, B, 16)\n",
    "\n",
    "\"\"\"VERIFIER:\"\"\"\n",
    "v_point = multiply(G1, 16)\n",
    "assert add(A, B) == v_point"
   ]
  },
  {
   "cell_type": "markdown",
   "metadata": {},
   "source": [
    "# Exercise 3\n",
    "### ZK Multiplication by Constant: \"I know that 5 times a hidden number, H, is 55.\""
   ]
  },
  {
   "cell_type": "code",
   "execution_count": null,
   "metadata": {},
   "outputs": [],
   "source": [
    "\n",
    "# Prover will:\n",
    "hidden_number = 11\n",
    "H = multiply(G1, hidden_number)\n",
    "proof = (5, H, 55)\n",
    "\n",
    "\"\"\"VERIFIER:\"\"\"\n",
    "P = multiply(G1, 55)\n",
    "assert multiply(H, 5) == P"
   ]
  },
  {
   "cell_type": "markdown",
   "metadata": {},
   "source": [
    "# Exercise 4\n",
    "### ZK Equation: \"I know x and y such that 5x + 2y = 16\""
   ]
  },
  {
   "cell_type": "code",
   "execution_count": null,
   "metadata": {},
   "outputs": [],
   "source": [
    "\"\"\"PROVER:\"\"\" \n",
    "x = 2\n",
    "y = 3\n",
    "\n",
    "X = multiply(G1, x)\n",
    "Y = multiply(G1, y)\n",
    "proof = (5, X, 2, Y, 16)\n",
    "\n",
    "\"\"\"VERIFIER:\"\"\"\n",
    "\n",
    "construct = add(multiply(X, 5), multiply(Y, 2))\n",
    "assert construct == multiply(G1, 16)"
   ]
  },
  {
   "cell_type": "markdown",
   "metadata": {},
   "source": [
    "# Exercise 5\n",
    "### ZK Rational Number Math: how to do the following on Elliptic Curves?\n",
    "\n",
    "$$  5/2 + 1/2 = 3 $$\n",
    "\n",
    "$$ 5 * (1/2) + (1) * (1/2) = 3 $$"
   ]
  },
  {
   "cell_type": "code",
   "execution_count": 5,
   "metadata": {},
   "outputs": [],
   "source": [
    "inv_field_elem = pow(2, -1, curve_order)\n",
    "\n",
    "inv2_point = multiply(G1, inv_field_elem)\n",
    "\n",
    "checkpoint = multiply(G1, 3)\n",
    "\n",
    "assert add(multiply(inv2_point, 5), inv2_point) == checkpoint\n"
   ]
  },
  {
   "cell_type": "markdown",
   "metadata": {},
   "source": [
    "# HW3 Exercise 1"
   ]
  },
  {
   "cell_type": "markdown",
   "metadata": {},
   "source": [
    "Rationale:\n",
    "\n",
    "I can't deivide the numerator by the denominator due to the integer division:\n",
    "\n",
    "$$ A + B = G1 * (num/den) $$\n",
    "\n",
    "I can, however, rearrange the equation:\n",
    "\n",
    "$$ (A + B) = G1 * num * den^{-1} \\pmod {curve\\_order} $$ \n",
    "\n",
    "### Example Problem:\n",
    "\n",
    "$$ 5/2 + 3/2 = 8/2 = 4 $$"
   ]
  },
  {
   "cell_type": "code",
   "execution_count": 5,
   "metadata": {},
   "outputs": [
    {
     "name": "stdout",
     "output_type": "stream",
     "text": [
      "A: (19032580475487806326057692075690361508625732333378927815997075982203596960703, 8731032473663224878408972807329716494736032188868213550913069617079965841757)\n",
      "B: (20218473672104602182365268103669367305741558787574619646654823060903696598123, 1222619430156132345159311921052235294370050724750479676095071048268376132670)\n"
     ]
    }
   ],
   "source": [
    "CURVE_ORDER = 21888242871839275222246405745257275088548364400416034343698204186575808495617\n",
    "\n",
    "\"\"\"PROVER:\"\"\" \n",
    "num = 4\n",
    "den = 1\n",
    "\n",
    "# 1. Re-represent problem into: 5 * inv(2) + 3 * inv(2) = 4\n",
    "r_den_a = 2 # rational denominator\n",
    "r_den_b = 2 # rational denominator\n",
    "\n",
    "# 2. Find rational denominator's modular inverse\n",
    "r_den_a_inverse = pow(r_den_a, CURVE_ORDER - 2, CURVE_ORDER)\n",
    "r_den_b_inverse = pow(r_den_b, CURVE_ORDER - 2, CURVE_ORDER)\n",
    "\n",
    "# 3. Construct A and B using inverses and scalars\n",
    "inv_a_point = multiply(G1, r_den_a_inverse)\n",
    "inv_b_point = multiply(G1, r_den_b_inverse)\n",
    "A = multiply(inv_a_point, 5)\n",
    "B = multiply(inv_b_point, 3)\n",
    "print(\"A:\", A)\n",
    "print(\"B:\", B)\n",
    "\n",
    "# 4. Construct proof\n",
    "proof = (A, B, num, den)\n",
    "\n",
    "\"\"\"VERIFIER:\"\"\"\n",
    "A = proof[0]\n",
    "B = proof[1]\n",
    "num = proof[2]\n",
    "den = proof[3]\n",
    "\n",
    "# 5. Construct C: num/den can be represented as num * inv(den)\n",
    "inv_den = pow(den, CURVE_ORDER - 2, CURVE_ORDER)\n",
    "inv_den_point = multiply(G1, inv_den)\n",
    "C = multiply(inv_den_point, num)\n",
    "\n",
    "# 6. Verify that A + B == C\n",
    "assert add(A, B) == C"
   ]
  },
  {
   "cell_type": "markdown",
   "metadata": {},
   "source": [
    "# HW3 Exercise 2 "
   ]
  },
  {
   "cell_type": "code",
   "execution_count": 17,
   "metadata": {},
   "outputs": [
    {
     "name": "stdout",
     "output_type": "stream",
     "text": [
      "m: [1, 2, 3, 4, 5, 6, 7, 8, 9, 10, 11, 12, 13, 14, 15, 16] \n",
      "\n",
      "\n",
      "s_list: [[1368015179489954701390400359078579693043519447331113978918064868415326638035, 9918110051302171585080402603319702774565515993150576347155970296011118125764], [3010198690406615200373504922352659861758983907867017329644089018310584441462, 4027184618003122424972590350825261965929648733675738730716654005365300998076], [3932705576657793550893430333273221375907985235130430286685735064194643946083, 18813763293032256545937756946359266117037834559191913266454084342712532869153], [10835225521862395592687560951453385602895512958032257955899877380493200080708, 2623520004791921319615054428233368525468155544765295675952919303096698181037]]\n",
      "o_list: [[36435015165795949864190500573076466772343558715483085869477662269995883502, 12578652896417066812813214699834299212164767626159614960854168133330558784127], [5208915768490282719853875436926270237244370626538455259071168950361949252324, 19217052291869819708375403416173486519711020651119917267754311797291004149993], [17970308497997993381289252236520469890119316316576178237569745497135098974949, 8572830313037757742248196423391259120683955062103380989951992591443549843789], [4199691724961635209631947307634140148191731163252904347659751036043258418251, 8902203974290145254449245875701134903083487921935873426458064069251409652135]]\n"
     ]
    }
   ],
   "source": [
    "# construct m\n",
    "n = 4\n",
    "m = []\n",
    "for i in range(n * n):\n",
    "    m.append(i+1)\n",
    "\n",
    "print(\"m:\", m, \"\\n\\n\")\n",
    "\n",
    "\n",
    "# construct test points for s\n",
    "s = []\n",
    "i = 2\n",
    "for _ in range(n):\n",
    "    s.append(multiply(G1, i))\n",
    "    i *= 2\n",
    "\n",
    "# print for copy to remix\n",
    "s_list = []\n",
    "for point in s:\n",
    "    s_list.append(list(point))\n",
    "\n",
    "print(\"s_list:\", s_list)\n",
    "\n",
    "\n",
    "# construct test o\n",
    "o = []\n",
    "for row in range(n):\n",
    "    POINT = Z1\n",
    "    for col in range(n):\n",
    "        elem = m[row * n + col]\n",
    "        POINT = add(POINT, multiply(s[col], elem)) \n",
    "    o.append(POINT)\n",
    "\n",
    "# print for copy to remix\n",
    "o_list = []\n",
    "for point in o:\n",
    "    o_list.append(list(point))\n",
    "\n",
    "print(\"o_list:\", o_list)\n",
    "\n",
    "\n"
   ]
  }
 ],
 "metadata": {
  "kernelspec": {
   "display_name": "env",
   "language": "python",
   "name": "python3"
  },
  "language_info": {
   "codemirror_mode": {
    "name": "ipython",
    "version": 3
   },
   "file_extension": ".py",
   "mimetype": "text/x-python",
   "name": "python",
   "nbconvert_exporter": "python",
   "pygments_lexer": "ipython3",
   "version": "3.9.5"
  }
 },
 "nbformat": 4,
 "nbformat_minor": 2
}
